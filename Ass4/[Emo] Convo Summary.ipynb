{
 "cells": [
  {
   "cell_type": "markdown",
   "metadata": {},
   "source": [
    "## Convo Summary"
   ]
  },
  {
   "cell_type": "markdown",
   "metadata": {},
   "source": [
    "Looking at different types of LLMs and how they summarize audio transcripts in the most concise but also more understandable (easy for the receiver to understand partient information and urgency) way."
   ]
  },
  {
   "cell_type": "markdown",
   "metadata": {},
   "source": [
    "## ChatGPT"
   ]
  },
  {
   "cell_type": "markdown",
   "metadata": {},
   "source": [
    "Start by looking at ChatGPT."
   ]
  },
  {
   "cell_type": "code",
   "execution_count": null,
   "metadata": {},
   "outputs": [],
   "source": [
    "# Setting up the API Key\n",
    "openai.api_key = os.getenv(\"OPENAI_API_KEY\")\n",
    "\n",
    "# Function to prompt ChatGPT\n",
    "def get_chatgpt_response(prompt):\n",
    "    completion = openai.chat.completions.create(\n",
    "        model=\"gpt-4o\",\n",
    "        messages=[\n",
    "            {\"role\": \"system\", \"content\": \"You are a helpful assistant.\"},\n",
    "            {\"role\": \"user\", \"content\": prompt}\n",
    "        ]\n",
    "    )\n",
    "    return completion.choices[0].message.content\n",
    "\n",
    "\n",
    "def store_chatgpt_responses(list_of_prompts):\n",
    "    # Loop through each prompt\n",
    "    for prompt_num, prompt in enumerate(list_of_prompts, start=1):\n",
    "        # Define output path for this prompt's results\n",
    "        output_filename = f\"Summaries/gpt-4/prompt{prompt_num}_summary.txt\"\n",
    "        \n",
    "        # Create/open the file for writing all call summaries under this prompt\n",
    "        with open(output_filename, \"w\", encoding=\"utf-8\") as out_file:\n",
    "            # Loop through all transcripts (call01–call05)\n",
    "            for i in range(1, 6):\n",
    "                filename = f\"call{i:02d}.txt\"\n",
    "                filepath = f\"Transcripts/{filename}\"  # based on your folder structure\n",
    "\n",
    "                with open(filepath, \"r\", encoding=\"utf-8\") as f:\n",
    "                    transcript_text = f.read()\n",
    "\n",
    "                # Combine prompt with transcript\n",
    "                full_prompt = f\"{prompt}\\n\\nTranscript:\\n{transcript_text}\"\n",
    "                response = get_chatgpt_response(full_prompt)\n",
    "\n",
    "                # Write formatted summary to the output file\n",
    "                out_file.write(f\"=== Summary for {filename} ===\\n\")\n",
    "                out_file.write(response.strip() + \"\\n\\n\")  # add space between summaries\n",
    "\n",
    "            print(f\"Saved all summaries for prompt {prompt_num} to {output_filename}\")\n"
   ]
  },
  {
   "cell_type": "markdown",
   "metadata": {},
   "source": [
    "Calling the function"
   ]
  },
  {
   "cell_type": "code",
   "execution_count": 50,
   "metadata": {},
   "outputs": [
    {
     "name": "stdout",
     "output_type": "stream",
     "text": [
      "Saved all summaries for prompt 1 to Summaries/gpt-4/prompt1_summary.txt\n",
      "Saved all summaries for prompt 2 to Summaries/gpt-4/prompt2_summary.txt\n",
      "Saved all summaries for prompt 3 to Summaries/gpt-4/prompt3_summary.txt\n"
     ]
    }
   ],
   "source": [
    "concise_prompt = \"Summarize the following audio transcript in 3–4 sentences. Focus on the main issue discussed, the speaker’s emotional state, and any signs of urgency or distress\"\n",
    "analytical_prompt = \"Read this conversation transcript and provide a concise summary that identifies the key concern, emotional tone, and any notable escalation or risk indicators. Use professional and neutral language.\"\n",
    "structured_prompt = \"Summarize the transcript with the following format:\\n- Main issue: \\n- Emotional state: \\n- Urgency level (low/medium/high):\"\n",
    "\n",
    "list_of_prompts = [concise_prompt, analytical_prompt, structured_prompt]\n",
    "\n",
    "store_chatgpt_responses(list_of_prompts)"
   ]
  }
 ],
 "metadata": {
  "language_info": {
   "name": "python"
  }
 },
 "nbformat": 4,
 "nbformat_minor": 2
}
